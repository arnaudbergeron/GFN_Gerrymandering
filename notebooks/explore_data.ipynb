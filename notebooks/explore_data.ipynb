{
 "cells": [
  {
   "cell_type": "markdown",
   "id": "4a59bbe9",
   "metadata": {},
   "source": [
    "# Pennsylvania"
   ]
  },
  {
   "cell_type": "markdown",
   "id": "5210a83d",
   "metadata": {},
   "source": [
    "## Full raw data"
   ]
  },
  {
   "cell_type": "code",
   "execution_count": null,
   "id": "6f28e671",
   "metadata": {
    "ExecuteTime": {
     "end_time": "2024-12-10T20:56:14.241367Z",
     "start_time": "2024-12-10T20:56:13.781271Z"
    }
   },
   "outputs": [],
   "source": [
    "from utils.data_utils import load_raw_data, visualize_map_with_geometry\n",
    "from pathlib import Path\n",
    "\n",
    "# Flatten the JSON structure into a DataFrame\n",
    "df = load_raw_data(Path('data/IA_raw_data.json'))"
   ]
  },
  {
   "cell_type": "code",
   "execution_count": null,
   "id": "a726b9b1",
   "metadata": {},
   "outputs": [],
   "source": [
    "import pandas as pd\n",
    "import geopandas as gpd\n",
    "from shapely.geometry import Point\n",
    "import matplotlib.pyplot as plt\n",
    "\n",
    "# Load the dataframe (assuming it's already loaded as `df`)\n",
    "gdf = gpd.GeoDataFrame(df, geometry=df['geometry'])  # Ensure geometry is parsed\n",
    "\n",
    "# Step 1: Create grid-like state space\n",
    "gdf['centroid'] = gdf.geometry.centroid  # Calculate centroids for each county\n",
    "gdf['grid_x'] = gdf['centroid'].apply(lambda p: round(p.x))\n",
    "gdf['grid_y'] = gdf['centroid'].apply(lambda p: round(p.y))\n",
    "\n",
    "# Map counties to grid cells\n",
    "grid_mapping = {}\n",
    "for _, row in gdf.iterrows():\n",
    "    grid_mapping[(row['grid_x'], row['grid_y'])] = row['county']\n",
    "\n",
    "# Step 2: Validate adjacency\n",
    "def is_adjacent(county, neighbor_county):\n",
    "    \"\"\"Check if two counties are adjacent based on the adjacency list.\"\"\"\n",
    "    adjacencies = gdf[gdf['county'] == county]['adj'].values[0]\n",
    "    return neighbor_county in adjacencies\n",
    "\n",
    "# Create a dictionary for adjacency checks\n",
    "grid_adjacency = {}\n",
    "for (x, y), county in grid_mapping.items():\n",
    "    # Find all 8 possible neighboring cells\n",
    "    neighbors = [\n",
    "        (x - 1, y - 1), (x, y - 1), (x + 1, y - 1),\n",
    "        (x - 1, y),                 (x + 1, y),\n",
    "        (x - 1, y + 1), (x, y + 1), (x + 1, y + 1),\n",
    "    ]\n",
    "    grid_adjacency[county] = [\n",
    "        grid_mapping.get(neighbor)\n",
    "        for neighbor in neighbors\n",
    "        if grid_mapping.get(neighbor)\n",
    "    ]\n",
    "\n",
    "# Verify adjacency consistency\n",
    "for county, neighbors in grid_adjacency.items():\n",
    "    for neighbor in neighbors:\n",
    "        if not is_adjacent(county, neighbor):\n",
    "            print(f\"Adjacency mismatch for {county} and {neighbor}\")\n",
    "\n",
    "# Step 3: Visualize the grid\n",
    "plt.figure(figsize=(10, 8))\n",
    "for (x, y), county in grid_mapping.items():\n",
    "    plt.scatter(x, y, label=county)\n",
    "    plt.text(x, y, county, fontsize=8, ha='center', va='center')\n",
    "plt.title(\"Grid State Space for RL Problem\")\n",
    "plt.xlabel(\"Grid X\")\n",
    "plt.ylabel(\"Grid Y\")\n",
    "plt.show()"
   ]
  },
  {
   "cell_type": "code",
   "execution_count": null,
   "id": "46056796",
   "metadata": {},
   "outputs": [],
   "source": [
    "adjency_mapping = {}\n",
    "\n",
    "for index, row in enumerate(df.itertuples()):\n",
    "    adjency_mapping[index] = row.adj\n",
    "\n",
    "adjency_mapping"
   ]
  },
  {
   "cell_type": "code",
   "execution_count": null,
   "id": "344d2d52",
   "metadata": {},
   "outputs": [],
   "source": [
    "metrics = {\n",
    "    \"total\": [(\"vap\", \"Voting Age Population\")],\n",
    "    \"mean\": [],\n",
    "    \"ratio\": [[(\"pre_20_dem_bid\", \"Biden\"), (\"pre_20_rep_tru\", \"Trump\")]]\n",
    "}\n",
    "visualize_map_with_geometry(df, geometry_col=\"geometry\", district_id_col=\"cd_2020\", state=\"Pennsylvania\", metrics=metrics)"
   ]
  },
  {
   "metadata": {},
   "cell_type": "code",
   "outputs": [],
   "execution_count": null,
   "source": [
    "# largest amount of adjacent nodes:\n",
    "# max(list(map(len, graph.values())))  # need to make a graph, but it's 8"
   ],
   "id": "1197af7bd959e76b"
  }
 ],
 "metadata": {
  "kernelspec": {
   "display_name": "RLOC",
   "language": "python",
   "name": "python3"
  },
  "language_info": {
   "codemirror_mode": {
    "name": "ipython",
    "version": 3
   },
   "file_extension": ".py",
   "mimetype": "text/x-python",
   "name": "python",
   "nbconvert_exporter": "python",
   "pygments_lexer": "ipython3",
   "version": "3.12.7"
  }
 },
 "nbformat": 4,
 "nbformat_minor": 5
}
